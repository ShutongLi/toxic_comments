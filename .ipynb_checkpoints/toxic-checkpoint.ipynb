{
 "cells": [
  {
   "cell_type": "code",
   "execution_count": 1,
   "id": "4737d250",
   "metadata": {},
   "outputs": [],
   "source": [
    "import pandas as pd\n",
    "import seaborn as sns\n",
    "import tensorflow as tf\n",
    "import tensorflow_hub as hub\n",
    "import tensorflow_text as text\n",
    "import numpy as np"
   ]
  },
  {
   "cell_type": "code",
   "execution_count": 2,
   "id": "db6d53f4",
   "metadata": {},
   "outputs": [],
   "source": [
    "AUTOTUNE = tf.data.AUTOTUNE\n",
    "batch_size = 32\n",
    "seed = 42\n",
    "raw_train_fp = 'data/training/ruddit_with_text.csv'\n",
    "tfhub_handle_preprocess = 'https://tfhub.dev/tensorflow/bert_en_uncased_preprocess/3'\n",
    "tfhub_handle_encoder = 'model/small_bert'"
   ]
  },
  {
   "cell_type": "code",
   "execution_count": 3,
   "id": "4ddcd8d7",
   "metadata": {},
   "outputs": [],
   "source": [
    "# def clean(data, col):  # Replace each occurrence of pattern/regex in the Series/Index\n",
    "\n",
    "#     # Clean some punctutations\n",
    "#     data[col] = data[col].str.replace('\\n', ' \\n ')  \n",
    "#     data[col] = data[col].str.replace(r'([a-zA-Z]+)([/!?.])([a-zA-Z]+)',r'\\1 \\2 \\3')\n",
    "#     # Replace repeating characters more than 3 times to length of 3\n",
    "#     data[col] = data[col].str.replace(r'([*!?\\'])\\1\\1{2,}',r'\\1\\1\\1')    \n",
    "#     # Add space around repeating characters\n",
    "#     data[col] = data[col].str.replace(r'([*!?\\']+)',r' \\1 ')    \n",
    "#     # patterns with repeating characters \n",
    "#     data[col] = data[col].str.replace(r'([a-zA-Z])\\1{2,}\\b',r'\\1\\1')\n",
    "#     data[col] = data[col].str.replace(r'([a-zA-Z])\\1\\1{2,}\\B',r'\\1\\1\\1')\n",
    "#     data[col] = data[col].str.replace(r'[ ]{2,}',' ').str.strip()   \n",
    "    \n",
    "#     return data  # the function returns the processed value"
   ]
  },
  {
   "cell_type": "code",
   "execution_count": 4,
   "id": "41d45913",
   "metadata": {},
   "outputs": [],
   "source": [
    "raw_train = pd.read_csv(raw_train_fp)[['txt', 'offensiveness_score']].rename({'offensiveness_score':'target'},axis=1)\n",
    "raw_train = raw_train.loc[raw_train['txt'] != '[deleted]']"
   ]
  },
  {
   "cell_type": "code",
   "execution_count": 5,
   "id": "26694c59",
   "metadata": {},
   "outputs": [
    {
     "data": {
      "text/html": [
       "<div>\n",
       "<style scoped>\n",
       "    .dataframe tbody tr th:only-of-type {\n",
       "        vertical-align: middle;\n",
       "    }\n",
       "\n",
       "    .dataframe tbody tr th {\n",
       "        vertical-align: top;\n",
       "    }\n",
       "\n",
       "    .dataframe thead th {\n",
       "        text-align: right;\n",
       "    }\n",
       "</style>\n",
       "<table border=\"1\" class=\"dataframe\">\n",
       "  <thead>\n",
       "    <tr style=\"text-align: right;\">\n",
       "      <th></th>\n",
       "      <th>txt</th>\n",
       "      <th>target</th>\n",
       "    </tr>\n",
       "  </thead>\n",
       "  <tbody>\n",
       "    <tr>\n",
       "      <th>0</th>\n",
       "      <td>&gt; The difference in average earnings between m...</td>\n",
       "      <td>-0.083</td>\n",
       "    </tr>\n",
       "    <tr>\n",
       "      <th>1</th>\n",
       "      <td>The myth is that the \"gap\" is entirely based o...</td>\n",
       "      <td>-0.022</td>\n",
       "    </tr>\n",
       "    <tr>\n",
       "      <th>3</th>\n",
       "      <td>The assertion is that women get paid less for ...</td>\n",
       "      <td>-0.146</td>\n",
       "    </tr>\n",
       "    <tr>\n",
       "      <th>4</th>\n",
       "      <td>You said in the OP that's not what they're mea...</td>\n",
       "      <td>-0.083</td>\n",
       "    </tr>\n",
       "    <tr>\n",
       "      <th>5</th>\n",
       "      <td>&gt;Men and women are not payed less for the same...</td>\n",
       "      <td>-0.042</td>\n",
       "    </tr>\n",
       "  </tbody>\n",
       "</table>\n",
       "</div>"
      ],
      "text/plain": [
       "                                                 txt  target\n",
       "0  > The difference in average earnings between m...  -0.083\n",
       "1  The myth is that the \"gap\" is entirely based o...  -0.022\n",
       "3  The assertion is that women get paid less for ...  -0.146\n",
       "4  You said in the OP that's not what they're mea...  -0.083\n",
       "5  >Men and women are not payed less for the same...  -0.042"
      ]
     },
     "metadata": {},
     "output_type": "display_data"
    },
    {
     "name": "stdout",
     "output_type": "stream",
     "text": [
      "(5722, 2)\n"
     ]
    }
   ],
   "source": [
    "display(raw_train.head())\n",
    "print(raw_train.shape)"
   ]
  },
  {
   "cell_type": "code",
   "execution_count": 6,
   "id": "0aaeedcf",
   "metadata": {},
   "outputs": [
    {
     "data": {
      "text/plain": [
       "<AxesSubplot:xlabel='target', ylabel='Density'>"
      ]
     },
     "execution_count": 6,
     "metadata": {},
     "output_type": "execute_result"
    },
    {
     "data": {
      "image/png": "[encoded data removed]",
      "text/plain": [
       "<Figure size 432x288 with 1 Axes>"
      ]
     },
     "metadata": {
      "needs_background": "light"
     },
     "output_type": "display_data"
    }
   ],
   "source": [
    "sns.kdeplot(raw_train['target'])"
   ]
  },
  {
   "cell_type": "markdown",
   "id": "f03826b4",
   "metadata": {},
   "source": [
    "### preprocessing"
   ]
  },
  {
   "cell_type": "code",
   "execution_count": 7,
   "id": "11a27b53",
   "metadata": {},
   "outputs": [],
   "source": [
    "X = raw_train['txt']\n",
    "y = raw_train['target']"
   ]
  },
  {
   "cell_type": "code",
   "execution_count": 8,
   "id": "dfa52f5b",
   "metadata": {},
   "outputs": [],
   "source": [
    "from sklearn.model_selection import train_test_split"
   ]
  },
  {
   "cell_type": "code",
   "execution_count": 9,
   "id": "e276acb8",
   "metadata": {},
   "outputs": [],
   "source": [
    "X_train, X_val, y_train, y_val = train_test_split(X,y,random_state=seed, test_size=0.2)"
   ]
  },
  {
   "cell_type": "markdown",
   "id": "1d80b033",
   "metadata": {},
   "source": [
    "### model building"
   ]
  },
  {
   "cell_type": "code",
   "execution_count": 10,
   "id": "27e64443",
   "metadata": {},
   "outputs": [],
   "source": [
    "def embedding_model():\n",
    "    text_input = tf.keras.layers.Input(shape=(), dtype=tf.string, name='text')\n",
    "    preprocessing_layer = hub.KerasLayer(tfhub_handle_preprocess, name='preprocessing')\n",
    "    encoder_inputs = preprocessing_layer(text_input)\n",
    "    encoder = hub.KerasLayer(tfhub_handle_encoder, name='BERT_encoder')\n",
    "    outputs = encoder(encoder_inputs)['pooled_output']\n",
    "    return tf.keras.Model(text_input, outputs)"
   ]
  },
  {
   "cell_type": "code",
   "execution_count": 15,
   "id": "7f89ea6e",
   "metadata": {},
   "outputs": [],
   "source": [
    "embedder = embedding_model()"
   ]
  },
  {
   "cell_type": "code",
   "execution_count": 16,
   "id": "babf9d3a",
   "metadata": {},
   "outputs": [],
   "source": [
    "text_test = ['this is such an amazing movie!']"
   ]
  },
  {
   "cell_type": "code",
   "execution_count": 17,
   "id": "b191c144",
   "metadata": {},
   "outputs": [],
   "source": [
    "test_embedding = embedder(tf.constant(text_test))"
   ]
  },
  {
   "cell_type": "code",
   "execution_count": 18,
   "id": "340b9b26",
   "metadata": {},
   "outputs": [
    {
     "data": {
      "text/plain": [
       "<tf.Tensor: shape=(9,), dtype=float32, numpy=\n",
       "array([-0.3935344 , -0.53931636,  0.6825621 ,  0.43848413, -0.14021151,\n",
       "        0.8774711 ,  0.26043335, -0.631129  , -0.9999658 ], dtype=float32)>"
      ]
     },
     "execution_count": 18,
     "metadata": {},
     "output_type": "execute_result"
    }
   ],
   "source": [
    "test_embedding[0][1:10]"
   ]
  },
  {
   "cell_type": "code",
   "execution_count": 19,
   "id": "91d17fe3",
   "metadata": {},
   "outputs": [],
   "source": [
    "# X_train_embedded = embedder(X_train)\n",
    "# X_val_embedded = embedder(X_val)\n",
    "# np.save('data/processed/ruddit_embedding.npy', X_train_embedded.numpy())\n",
    "# np.save('data/processed/ruddit_embedding_val.npy', X_val_embedded.numpy())"
   ]
  },
  {
   "cell_type": "code",
   "execution_count": 20,
   "id": "abb61d47",
   "metadata": {},
   "outputs": [],
   "source": [
    "X_train_embedded = np.load('data/processed/ruddit_embedding.npy')\n",
    "X_val_embedded = np.load('data/processed/ruddit_embedding_val.npy')"
   ]
  },
  {
   "cell_type": "code",
   "execution_count": 21,
   "id": "6f02ed40",
   "metadata": {},
   "outputs": [],
   "source": [
    "from sklearn.linear_model import Ridge"
   ]
  },
  {
   "cell_type": "code",
   "execution_count": 22,
   "id": "b245f3f2",
   "metadata": {},
   "outputs": [],
   "source": [
    "lr = Ridge()"
   ]
  },
  {
   "cell_type": "code",
   "execution_count": 23,
   "id": "2ff636ec",
   "metadata": {},
   "outputs": [
    {
     "data": {
      "text/plain": [
       "Ridge()"
      ]
     },
     "execution_count": 23,
     "metadata": {},
     "output_type": "execute_result"
    }
   ],
   "source": [
    "lr.fit(X_train_embedded, y_train)"
   ]
  },
  {
   "cell_type": "code",
   "execution_count": 24,
   "id": "96bc68fa",
   "metadata": {},
   "outputs": [
    {
     "name": "stdout",
     "output_type": "stream",
     "text": [
      "0.6123489775926647\n",
      "0.5215300234820692\n"
     ]
    }
   ],
   "source": [
    "print(lr.score(X_train_embedded, y_train))\n",
    "print(lr.score(X_val_embedded, y_val))"
   ]
  },
  {
   "cell_type": "code",
   "execution_count": 25,
   "id": "fd63bf95",
   "metadata": {},
   "outputs": [],
   "source": [
    "X_total_embedded = tf.concat([X_train_embedded, X_val_embedded], 0)\n",
    "y_total = tf.concat([y_train, y_val], 0)"
   ]
  },
  {
   "cell_type": "code",
   "execution_count": 26,
   "id": "e79571a1",
   "metadata": {},
   "outputs": [],
   "source": [
    "lr_final = Ridge()"
   ]
  },
  {
   "cell_type": "code",
   "execution_count": 27,
   "id": "41063aaa",
   "metadata": {},
   "outputs": [
    {
     "data": {
      "text/plain": [
       "Ridge()"
      ]
     },
     "execution_count": 27,
     "metadata": {},
     "output_type": "execute_result"
    }
   ],
   "source": [
    "lr_final.fit(X_total_embedded, y_total)"
   ]
  },
  {
   "cell_type": "code",
   "execution_count": 29,
   "id": "efb5a1f8",
   "metadata": {},
   "outputs": [
    {
     "data": {
      "text/plain": [
       "0.5933214936903823"
      ]
     },
     "execution_count": 29,
     "metadata": {},
     "output_type": "execute_result"
    }
   ],
   "source": [
    "lr.score(X_total_embedded, y_total)"
   ]
  },
  {
   "cell_type": "markdown",
   "id": "8696d254",
   "metadata": {},
   "source": [
    "#### yeah this is gonna take a while"
   ]
  },
  {
   "cell_type": "code",
   "execution_count": 31,
   "id": "f49b776f",
   "metadata": {},
   "outputs": [],
   "source": [
    "#load validation file\n",
    "validation = pd.read_csv('data/validation/validation_data.csv',chunksize=1000, nrows=2000)"
   ]
  },
  {
   "cell_type": "code",
   "execution_count": 32,
   "id": "96812d7e",
   "metadata": {},
   "outputs": [],
   "source": [
    "less_embedded_fp = 'data/validation/less_embedded.txt'\n",
    "more_embedded_fp = \"data/validation/more_embedded.txt\""
   ]
  },
  {
   "cell_type": "code",
   "execution_count": 33,
   "id": "d1b9b57a",
   "metadata": {},
   "outputs": [],
   "source": [
    "with open(less_embedded_fp, \"a\") as fh_less, open(more_embedded_fp, \"a\") as fh_more:\n",
    "    fh_less.truncate(0)\n",
    "    fh_more.truncate(0)"
   ]
  },
  {
   "cell_type": "code",
   "execution_count": 34,
   "id": "7148456f",
   "metadata": {},
   "outputs": [
    {
     "name": "stdout",
     "output_type": "stream",
     "text": [
      "(1000, 3)\n",
      "(1000, 3)\n"
     ]
    }
   ],
   "source": [
    "for chunk in validation:\n",
    "    print(chunk.shape)\n",
    "    with open(less_embedded_fp, \"a\") as fh_less, open(more_embedded_fp, \"a\") as fh_more:\n",
    "        less = tf.data.Dataset.from_tensors(chunk['less_toxic'])\n",
    "        more = tf.data.Dataset.from_tensors(chunk['more_toxic'])\n",
    "        less_embedded = embedder.predict(less)\n",
    "        more_embedded = embedder.predict(more)\n",
    "        np.savetxt(fh_less, less_embedded)\n",
    "        np.savetxt(fh_more, more_embedded)"
   ]
  },
  {
   "cell_type": "code",
   "execution_count": 28,
   "id": "e28a532d",
   "metadata": {},
   "outputs": [],
   "source": [
    "# less = tf.data.Dataset.from_tensors(validation['less_toxic'])\n",
    "# # more = tf.data.Dataset.from_tensors(validation['more_toxic'])"
   ]
  },
  {
   "cell_type": "code",
   "execution_count": 35,
   "id": "a063ceda",
   "metadata": {},
   "outputs": [],
   "source": [
    "less_embedded = np.loadtxt(less_embedded_fp)"
   ]
  },
  {
   "cell_type": "code",
   "execution_count": 36,
   "id": "07fc32cb",
   "metadata": {},
   "outputs": [],
   "source": [
    "more_embedded = np.loadtxt(more_embedded_fp)"
   ]
  },
  {
   "cell_type": "code",
   "execution_count": 38,
   "id": "959c9140",
   "metadata": {},
   "outputs": [
    {
     "data": {
      "text/plain": [
       "0.6115"
      ]
     },
     "execution_count": 38,
     "metadata": {},
     "output_type": "execute_result"
    }
   ],
   "source": [
    "less_score, more_score = lr.predict(less_embedded), lr.predict(more_embedded)\n",
    "np.mean(less_score<more_score)"
   ]
  },
  {
   "cell_type": "code",
   "execution_count": null,
   "id": "c4bee516",
   "metadata": {},
   "outputs": [],
   "source": []
  }
 ],
 "metadata": {
  "kernelspec": {
   "display_name": "Python 3",
   "language": "python",
   "name": "python3"
  },
  "language_info": {
   "codemirror_mode": {
    "name": "ipython",
    "version": 3
   },
   "file_extension": ".py",
   "mimetype": "text/x-python",
   "name": "python",
   "nbconvert_exporter": "python",
   "pygments_lexer": "ipython3",
   "version": "3.8.8"
  }
 },
 "nbformat": 4,
 "nbformat_minor": 5
}
